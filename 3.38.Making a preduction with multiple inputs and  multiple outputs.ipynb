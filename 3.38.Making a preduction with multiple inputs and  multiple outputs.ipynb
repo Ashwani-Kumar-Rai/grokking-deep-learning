{
 "cells": [
  {
   "cell_type": "code",
   "execution_count": 4,
   "metadata": {},
   "outputs": [
    {
     "name": "stdout",
     "output_type": "stream",
     "text": [
      "[0.29000000000000004, 0.26, 0.36]\n"
     ]
    },
    {
     "name": "stderr",
     "output_type": "stream",
     "text": [
      "<>:21: SyntaxWarning: assertion is always true, perhaps remove parentheses?\n",
      "<>:21: SyntaxWarning: assertion is always true, perhaps remove parentheses?\n",
      "/tmp/ipykernel_16225/4078113920.py:21: SyntaxWarning: assertion is always true, perhaps remove parentheses?\n",
      "  assert(len(vector),len(matrix))\n"
     ]
    }
   ],
   "source": [
    "runs=0.4\n",
    "won=0.5\n",
    "fans=0.1\n",
    "input=[runs,won,fans]\n",
    "\n",
    "        # (input layer)\n",
    "        # runs,won,fans\n",
    "weights=[ [ 0.2,0.4,0.1 ],  # hurt ? (output layer)'s weight representation\n",
    "         [ 0.3,0.2,0.4 ],  # win ?  (output layer)\n",
    "         [ 0.1,0.6,0.2 ] ]  # sad ? (output layer)\n",
    "\n",
    "\n",
    "def weighted_sum(a,b):\n",
    "    assert(len(a)==len(b))\n",
    "    output=0\n",
    "    for i in range(len(a)):\n",
    "        output += a[i]*b[i]\n",
    "    return output   \n",
    "\n",
    "def vector_matrix_multiplication(vector,matrix): # good naming practice\n",
    "    assert(len(vector),len(matrix))\n",
    "    output=[0,0,0]\n",
    "    for i in range(len(vector)):\n",
    "        output[i]=weighted_sum(vector,matrix[i])\n",
    "    return output    \n",
    "\n",
    "def neural_network(input ,weights):\n",
    "    pred = vector_matrix_multiplication(input,weights)\n",
    "    return pred \n",
    "\n",
    "pred = neural_network(input,weights) # prediction for output layer (hurt,win,sad)\n",
    "print(pred)"
   ]
  }
 ],
 "metadata": {
  "kernelspec": {
   "display_name": "Python 3",
   "language": "python",
   "name": "python3"
  },
  "language_info": {
   "codemirror_mode": {
    "name": "ipython",
    "version": 3
   },
   "file_extension": ".py",
   "mimetype": "text/x-python",
   "name": "python",
   "nbconvert_exporter": "python",
   "pygments_lexer": "ipython3",
   "version": "3.10.6"
  },
  "orig_nbformat": 4,
  "vscode": {
   "interpreter": {
    "hash": "916dbcbb3f70747c44a77c7bcd40155683ae19c65e1c03b4aa3499c5328201f1"
   }
  }
 },
 "nbformat": 4,
 "nbformat_minor": 2
}
