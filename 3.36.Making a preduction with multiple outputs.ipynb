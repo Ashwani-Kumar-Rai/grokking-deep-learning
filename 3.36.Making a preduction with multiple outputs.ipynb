{
 "cells": [
  {
   "cell_type": "code",
   "execution_count": 28,
   "metadata": {},
   "outputs": [
    {
     "name": "stdout",
     "output_type": "stream",
     "text": [
      "[0.16000000000000003, 0.0, 0.0]\n"
     ]
    },
    {
     "name": "stderr",
     "output_type": "stream",
     "text": [
      "<>:6: SyntaxWarning: assertion is always true, perhaps remove parentheses?\n",
      "<>:6: SyntaxWarning: assertion is always true, perhaps remove parentheses?\n",
      "/tmp/ipykernel_13214/766289022.py:6: SyntaxWarning: assertion is always true, perhaps remove parentheses?\n",
      "  assert(len(weights),len(output))\n"
     ]
    }
   ],
   "source": [
    "input=0.8 # win or loss \n",
    "weights=[0.2,0,0] # hurt ,win ,sad\n",
    "\n",
    "def ele_wise_multi(input,weights):\n",
    "    output=[0,0,0]\n",
    "    assert(len(weights),len(output))\n",
    "    for i in range(len(weights)):\n",
    "        output[i]=weights[i]*input\n",
    "    return output    \n",
    "\n",
    "def neural_network(input,weights):\n",
    "    prediction=ele_wise_multi(input,weights)\n",
    "    return prediction\n",
    "\n",
    "pred=neural_network(input,weights)\n",
    "print(pred)\n",
    "\n",
    "# [0.16000000000000003, 0.0, 0.0] hurt ,win ,sad : predictions"
   ]
  },
  {
   "cell_type": "code",
   "execution_count": 26,
   "metadata": {},
   "outputs": [
    {
     "name": "stdout",
     "output_type": "stream",
     "text": [
      "0.0\n"
     ]
    }
   ],
   "source": [
    "# MY TRY : WRONG CODE \n",
    "# SOLUTION : our output is a list of three predictions : ie : list of three number\n",
    "input=0.8 # win or loss \n",
    "weights=[0.2,0,0] # hurt ,win ,sad\n",
    "\n",
    "def neural_network(input,weights):\n",
    "    prediction =0\n",
    "    for i in range(len(weights)):\n",
    "        prediction = input*weights[i]\n",
    "    return prediction\n",
    "\n",
    "pred=neural_network(input,weights)\n",
    "print(pred) "
   ]
  }
 ],
 "metadata": {
  "kernelspec": {
   "display_name": "Python 3",
   "language": "python",
   "name": "python3"
  },
  "language_info": {
   "codemirror_mode": {
    "name": "ipython",
    "version": 3
   },
   "file_extension": ".py",
   "mimetype": "text/x-python",
   "name": "python",
   "nbconvert_exporter": "python",
   "pygments_lexer": "ipython3",
   "version": "3.10.6"
  },
  "orig_nbformat": 4,
  "vscode": {
   "interpreter": {
    "hash": "916dbcbb3f70747c44a77c7bcd40155683ae19c65e1c03b4aa3499c5328201f1"
   }
  }
 },
 "nbformat": 4,
 "nbformat_minor": 2
}
