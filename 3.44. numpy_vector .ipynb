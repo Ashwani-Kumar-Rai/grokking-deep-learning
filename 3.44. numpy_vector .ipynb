{
 "cells": [
  {
   "cell_type": "code",
   "execution_count": null,
   "metadata": {},
   "outputs": [],
   "source": [
    "# When you read numpy , you are really doing two things\n",
    "    # 1> reading the operations \n",
    "    # 2> keeping track of shapes"
   ]
  },
  {
   "cell_type": "code",
   "execution_count": 8,
   "metadata": {},
   "outputs": [
    {
     "name": "stdout",
     "output_type": "stream",
     "text": [
      "(3,)\n",
      "(3,)\n"
     ]
    }
   ],
   "source": [
    "# VECTOR\n",
    "import numpy as np \n",
    "\n",
    "\n",
    "a = np.array([1,2,3]) # Vector\n",
    "print(a.shape)\n",
    "\n",
    "b = np.array([4,5,6]) # Vector\n",
    "print(b.shape)"
   ]
  },
  {
   "cell_type": "code",
   "execution_count": 3,
   "metadata": {},
   "outputs": [
    {
     "name": "stdout",
     "output_type": "stream",
     "text": [
      "(2, 3)\n"
     ]
    }
   ],
   "source": [
    "# MATRIX\n",
    "import numpy as np \n",
    "\n",
    "c = np.array([[1,2,3],\n",
    "              [4,5,6]]) # Matrix\n",
    "\n",
    "print(c.shape)"
   ]
  },
  {
   "cell_type": "code",
   "execution_count": 5,
   "metadata": {},
   "outputs": [
    {
     "name": "stdout",
     "output_type": "stream",
     "text": [
      "(2, 4)\n"
     ]
    }
   ],
   "source": [
    "# matrix of zeros \n",
    "\n",
    "d =np.zeros((2,4)) # 2 X 4 matrix of zeros \n",
    "print(d.shape) # (2, 4)"
   ]
  },
  {
   "cell_type": "code",
   "execution_count": 7,
   "metadata": {},
   "outputs": [
    {
     "name": "stdout",
     "output_type": "stream",
     "text": [
      "[[0.31036018 0.77097294 0.92815441 0.22931635 0.23195757]\n",
      " [0.90000498 0.39570168 0.3381846  0.3135195  0.25871379]]\n"
     ]
    }
   ],
   "source": [
    "# Random Matrix Between 0 and 1 \n",
    "\n",
    "\n",
    "\n",
    "# e : is a variable name assigned to a NumPy array.\n",
    "\n",
    "# np : is an alias for the NumPy module, which is a popular numerical computing library in Python.\n",
    "\n",
    "# .random : is a sub-module in NumPy that contains functions for generating random numbers.\n",
    "\n",
    "# .rand(2,5) : is a function in the random sub-module that generates a 2 by 5 array of random numbers between 0 and 1.\n",
    "\n",
    "# Therefore, the code e = np.random.rand(2,5) creates a 2 by 5 NumPy array of random numbers between 0 and 1 and assigns it to the variable e.\n",
    "\n",
    "\n",
    "\n",
    "\n",
    "\n",
    "\n",
    "e = np.random.rand(2,5) # Random 2 X 5 matrix of numbers between 0 and 1 \n",
    "print(e)"
   ]
  },
  {
   "cell_type": "code",
   "execution_count": 9,
   "metadata": {},
   "outputs": [
    {
     "name": "stdout",
     "output_type": "stream",
     "text": [
      "[0.1 0.2 0.3]\n"
     ]
    }
   ],
   "source": [
    "a = np.array([1,2,3]) # Vector\n",
    "print(a*0.1) # Multiply every number in vector a by 0.1"
   ]
  },
  {
   "cell_type": "code",
   "execution_count": 10,
   "metadata": {},
   "outputs": [
    {
     "name": "stdout",
     "output_type": "stream",
     "text": [
      "[[0.2 0.4 0.6]\n",
      " [0.8 1.  1.2]]\n"
     ]
    }
   ],
   "source": [
    "import numpy as np \n",
    "\n",
    "c = np.array([[1,2,3],\n",
    "              [4,5,6]]) # Matrix\n",
    "\n",
    "print(c*0.2)  # Multiply every number in matrix c by 0.2"
   ]
  },
  {
   "cell_type": "code",
   "execution_count": 12,
   "metadata": {},
   "outputs": [
    {
     "name": "stdout",
     "output_type": "stream",
     "text": [
      "[ 4 10 18]\n"
     ]
    }
   ],
   "source": [
    "import numpy as np \n",
    "a = np.array([1,2,3])\n",
    "b = np.array([4,5,6])\n",
    "print(a*b) # Multiply elementwise between a and b (columns paired)\n"
   ]
  },
  {
   "cell_type": "code",
   "execution_count": null,
   "metadata": {},
   "outputs": [],
   "source": [
    "import numpy as np \n",
    "a = np.array([1,2,3])\n",
    "b = np.array([4,5,6])\n",
    "print(a*b * 0.2) # Multiply elementwise between a and b ,then multiply by 0.2\n"
   ]
  },
  {
   "cell_type": "code",
   "execution_count": 13,
   "metadata": {},
   "outputs": [
    {
     "name": "stdout",
     "output_type": "stream",
     "text": [
      "[[ 1  4  9]\n",
      " [ 4 10 18]]\n"
     ]
    }
   ],
   "source": [
    "import numpy as np \n",
    "\n",
    "a = np.array([1,2,3]) # Vector\n",
    "\n",
    "c = np.array([[1,2,3],\n",
    "              [4,5,6]]) # Matrix\n",
    "\n",
    "print(a*c) # Perform elementwise multiplication on every row of matrix c , because c has the same number\n",
    "                # of column as a "
   ]
  },
  {
   "cell_type": "code",
   "execution_count": 14,
   "metadata": {},
   "outputs": [
    {
     "name": "stdout",
     "output_type": "stream",
     "text": [
      "[[0.18341913 0.23661143 0.45712142 0.8975985  0.29448623]\n",
      " [0.03888182 0.48158716 0.90749054 0.86892389 0.53423858]]\n"
     ]
    },
    {
     "ename": "ValueError",
     "evalue": "operands could not be broadcast together with shapes (3,) (2,5) ",
     "output_type": "error",
     "traceback": [
      "\u001b[0;31m---------------------------------------------------------------------------\u001b[0m",
      "\u001b[0;31mValueError\u001b[0m                                Traceback (most recent call last)",
      "Cell \u001b[0;32mIn[14], line 8\u001b[0m\n\u001b[1;32m      5\u001b[0m e \u001b[39m=\u001b[39m np\u001b[39m.\u001b[39mrandom\u001b[39m.\u001b[39mrand(\u001b[39m2\u001b[39m,\u001b[39m5\u001b[39m) \u001b[39m# Random 2 X 5 matrix of numbers between 0 and 1 \u001b[39;00m\n\u001b[1;32m      6\u001b[0m \u001b[39mprint\u001b[39m(e)\n\u001b[0;32m----> 8\u001b[0m \u001b[39mprint\u001b[39m(a\u001b[39m*\u001b[39;49me) \u001b[39m# Because a and e don't have the same number of columns , this throws ,\u001b[39;00m\n\u001b[1;32m      9\u001b[0m               \u001b[39m# \"Value Error\" -> operands could not be broadcast together with ....\u001b[39;00m\n",
      "\u001b[0;31mValueError\u001b[0m: operands could not be broadcast together with shapes (3,) (2,5) "
     ]
    }
   ],
   "source": [
    "import numpy as np \n",
    "\n",
    "a = np.array([1,2,3]) # Vector\n",
    "\n",
    "e = np.random.rand(2,5) # Random 2 X 5 matrix of numbers between 0 and 1 \n",
    "print(e)\n",
    "\n",
    "print(a*e) # Because a and e don't have the same number of columns , this throws ,\n",
    "              # \"Value Error\" -> operands could not be broadcast together with ...."
   ]
  }
 ],
 "metadata": {
  "kernelspec": {
   "display_name": "Python 3",
   "language": "python",
   "name": "python3"
  },
  "language_info": {
   "codemirror_mode": {
    "name": "ipython",
    "version": 3
   },
   "file_extension": ".py",
   "mimetype": "text/x-python",
   "name": "python",
   "nbconvert_exporter": "python",
   "pygments_lexer": "ipython3",
   "version": "3.10.6"
  },
  "orig_nbformat": 4,
  "vscode": {
   "interpreter": {
    "hash": "916dbcbb3f70747c44a77c7bcd40155683ae19c65e1c03b4aa3499c5328201f1"
   }
  }
 },
 "nbformat": 4,
 "nbformat_minor": 2
}
