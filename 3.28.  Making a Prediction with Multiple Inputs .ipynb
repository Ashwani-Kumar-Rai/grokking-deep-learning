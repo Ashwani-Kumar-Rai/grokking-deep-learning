{
 "cells": [
  {
   "cell_type": "code",
   "execution_count": 1,
   "metadata": {},
   "outputs": [
    {
     "name": "stdout",
     "output_type": "stream",
     "text": [
      "0.9800000000000001\n"
     ]
    }
   ],
   "source": [
    "# Making a Prediction with Multiple Inputs\n",
    "    # Neural networks can combine intelligenc from multiple datapoints[inputs] .\n",
    "\n",
    "# A NETWORK CAN ACCEPT MULTIPLE INPUT DATAPOINTS AT A TIME .\n",
    "    #- What if you can give the network more information (at one time ) than just the number_of_runs,\n",
    "    #- in that case network should be  able to make more accurate predictions .     \n",
    "\n",
    "\n",
    "# THIS IS WEIGHTED SUM : A.K.A DOT PRODUCT \n",
    "# FOR ONE GAME CALCULATION :  output += (a[i] * b[i])\n",
    "#   INPUT    WEIGHTS    LOCAL PREDICTIONS \n",
    "#   (8.50  *   0.1)  =        0.85          TOES PREDICTION\n",
    "#   (0.65  *   0.2)  =        0.13          WLREC PREDICTION\n",
    "#   (1.20  *   0.0)  =        0.00          FANS PREDICTION\n",
    "\n",
    "#  TOES PREDICTION + WLREC PREDICTION + FANS PREDICTION = FINAL PREDICTION \n",
    "#        0.85      +       0.13       +        0.00     =       0.98\n",
    "\n",
    "\n",
    "# MULTIPLE INPUTS : WHAT DOES THIS NEURAL NETWORK DOING ? : \n",
    "    #- it multiples three inputs by three knob weights and sums them :-> This is a weighted sum .\n",
    "\n",
    "# NO OF INPUTS IS A LIMITING FACTOR : (((  MORE INPUTS(DATAPOINTS) -> MORE ACCURATE PREDICTIONS  )))\n",
    "\n",
    "\n",
    "\n",
    "def w_sum(a,b):\n",
    "    assert(len(a) == len(b))\n",
    "    output = 0\n",
    "    for i in range(len(a)):\n",
    "        output += (a[i] * b[i])\n",
    "    return output\n",
    "\n",
    "weights = [0.1, 0.2, 0] \n",
    "    \n",
    "def neural_network(input, weights):\n",
    "    pred = w_sum(input,weights)\n",
    "    return pred\n",
    "\n",
    "# This dataset is the current  \n",
    "# status at the beginning of\n",
    "# each game for the first 4 games  in a season.\n",
    "\n",
    "# toes = current number of toes\n",
    "# wlrec = current games won (percent)\n",
    "# nfans = fan count (in millions)\n",
    "\n",
    "toes =  [8.5, 9.5, 9.9, 9.0]\n",
    "wlrec = [0.65, 0.8, 0.8, 0.9]\n",
    "nfans = [1.2, 1.3, 0.5, 1.0]\n",
    "\n",
    "# Input corresponds to every entry\n",
    "# for the first game of the season.\n",
    "\n",
    "input = [toes[0],wlrec[0],nfans[0]]\n",
    "pred = neural_network(input,weights)\n",
    "\n",
    "print(pred)\n",
    "\n"
   ]
  },
  {
   "cell_type": "code",
   "execution_count": null,
   "metadata": {},
   "outputs": [],
   "source": [
    "# EXPLAINATION OF ABOVE CODE \n",
    "\n",
    "# This Python code defines two functions: w_sum and neural_network.\n",
    "\n",
    "# The w_sum function takes two lists a and b as inputs and returns the sum of the element-wise product \n",
    "    #- of the two lists.\n",
    "\n",
    "# The assert statement on the first line checks that the lengths of the two lists are equal,\n",
    "    #-and will raise an error if this is not the case.\n",
    "\n",
    "# The for loop on line 5 iterates over the elements of list a and computes the product of each element\n",
    "    # - with its corresponding element in list b. The result is added to the output variable,\n",
    "    # - which is initialized to 0.\n",
    "\n",
    "# The neural_network function takes two inputs: input and weights.\n",
    "    #-  This function simply calls the w_sum function with these inputs and returns the result.\n",
    "\n",
    "# At the end of the code, three lists are defined: toes, wlrec, and nfans.\n",
    "    #- The first elements of these lists are then combined into a single list input using the [] operator.\n",
    "    #- The neural_network function is then called with input and weights as inputs and the result\n",
    "    #- is stored in the pred variable. Finally, the value of pred is printed."
   ]
  },
  {
   "cell_type": "code",
   "execution_count": null,
   "metadata": {},
   "outputs": [],
   "source": [
    "# VECTOR\n",
    "# THIS NEW NEED TO PROCESS MULTIPLE INPUT AT A TIME JUSTIFIES THE USE OF A NEW TOOL , CALLED VECTORS\n",
    "\n",
    "# A VECTOR IS NOTHING OTHER THAN A LIST OF NUMBERS , IN THE EXAMPLE , INPUT IS A VECTOR AND WEIGHTS \n",
    "    #- IS A VECTOR .\n",
    "# VECTORS ARE INCREADIBLE USEFUL WHENEVER YOU WANT TO PERFORM OPERATIONS INVOLVING GROUPS OF NUMBERS\n",
    "# IN THIS CASE, PERFORMING A WEIGHTED SUM BETWEEN TWO VECTORS (A DOT PRODUCT).\n",
    "# YOU ARE TAKING TWO VECTOR OF EQUAL LENGTH (INPUT AND WEIGHT ) AND MULTIPLYING ELEMENT-WISE ."
   ]
  },
  {
   "cell_type": "code",
   "execution_count": 7,
   "metadata": {},
   "outputs": [
    {
     "name": "stdout",
     "output_type": "stream",
     "text": [
      "6.8999999999999995\n"
     ]
    }
   ],
   "source": [
    "# Practice of same code above\n",
    "average_no_of_runs=[23,34,5] # representing three games\n",
    "percentage_of_games_won=[0.44,0.88,0.87]\n",
    "no_of_fans=[34,64,25]\n",
    "input=[average_no_of_runs[0],no_of_fans[0],no_of_fans[0]]\n",
    "weights=[0.3,0,0] # the last two inputs have no contribution in prediction\n",
    "\n",
    "def w_sum(a,b):\n",
    "    assert(len(a)==len(b))\n",
    "    prediction = 0\n",
    "    for i in range(len(a)):\n",
    "        prediction += a[i]*b[i]\n",
    "    return prediction\n",
    "\n",
    "def neural_network(input,weight):\n",
    "    pred=w_sum(input,weight)\n",
    "    return pred \n",
    "\n",
    "pred = neural_network(input,weights)\n",
    "print(pred)\n"
   ]
  }
 ],
 "metadata": {
  "kernelspec": {
   "display_name": "Python 3",
   "language": "python",
   "name": "python3"
  },
  "language_info": {
   "codemirror_mode": {
    "name": "ipython",
    "version": 3
   },
   "file_extension": ".py",
   "mimetype": "text/x-python",
   "name": "python",
   "nbconvert_exporter": "python",
   "pygments_lexer": "ipython3",
   "version": "3.10.6"
  },
  "orig_nbformat": 4,
  "vscode": {
   "interpreter": {
    "hash": "916dbcbb3f70747c44a77c7bcd40155683ae19c65e1c03b4aa3499c5328201f1"
   }
  }
 },
 "nbformat": 4,
 "nbformat_minor": 2
}
