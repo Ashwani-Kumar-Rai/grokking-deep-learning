{
 "cells": [
  {
   "cell_type": "code",
   "execution_count": 26,
   "metadata": {},
   "outputs": [
    {
     "name": "stdout",
     "output_type": "stream",
     "text": [
      "0.8500000000000001\n"
     ]
    }
   ],
   "source": [
    "\n",
    "# A Simple Neural Network Making a Prediction\n",
    "\n",
    "# the network\n",
    "def prediction(input,weight):\n",
    "    prediction=input*weight\n",
    "    return prediction\n",
    "\n",
    "# how do you use the network to predict something\n",
    "input=[8.5,5.4,2.3]\n",
    "weight=0.1\n",
    "pred=prediction(input[0],weight)\n",
    "print(pred)\n",
    "\n",
    "\n",
    "\n",
    "\n"
   ]
  }
 ],
 "metadata": {
  "kernelspec": {
   "display_name": "Python 3",
   "language": "python",
   "name": "python3"
  },
  "language_info": {
   "codemirror_mode": {
    "name": "ipython",
    "version": 3
   },
   "file_extension": ".py",
   "mimetype": "text/x-python",
   "name": "python",
   "nbconvert_exporter": "python",
   "pygments_lexer": "ipython3",
   "version": "3.10.6"
  },
  "orig_nbformat": 4,
  "vscode": {
   "interpreter": {
    "hash": "916dbcbb3f70747c44a77c7bcd40155683ae19c65e1c03b4aa3499c5328201f1"
   }
  }
 },
 "nbformat": 4,
 "nbformat_minor": 2
}
