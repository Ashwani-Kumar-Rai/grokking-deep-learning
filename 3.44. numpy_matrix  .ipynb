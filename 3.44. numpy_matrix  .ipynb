{
 "cells": [
  {
   "cell_type": "code",
   "execution_count": null,
   "metadata": {},
   "outputs": [],
   "source": [
    "# When you read numpy , you are really doing two things\n",
    "    # 1> reading the operations \n",
    "    # 2> keeping track of shapes"
   ]
  },
  {
   "cell_type": "code",
   "execution_count": 1,
   "metadata": {},
   "outputs": [
    {
     "name": "stdout",
     "output_type": "stream",
     "text": [
      "(2, 3)\n"
     ]
    }
   ],
   "source": [
    "import numpy as np\n",
    "a =np.zeros((2,4)) # matrix : 2 rows , 4 columns\n",
    "b=np.zeros((4,3))  # matrix : 4 rows , 3 columns\n",
    "\n",
    "c = a.dot(b)\n",
    "print(c.shape) # outputs (2,3)\n"
   ]
  },
  {
   "cell_type": "code",
   "execution_count": 3,
   "metadata": {},
   "outputs": [
    {
     "name": "stdout",
     "output_type": "stream",
     "text": [
      "(4, 6)\n"
     ]
    }
   ],
   "source": [
    "h = np.zeros((5,4)).T # Matrix with 4 rows and 5 columns (due to transpose)\n",
    "i = np.zeros((5,6))\n",
    "\n",
    "j=h.dot(i)\n",
    "print(j.shape) # outputs (4, 6)"
   ]
  },
  {
   "cell_type": "code",
   "execution_count": 4,
   "metadata": {},
   "outputs": [
    {
     "ename": "ValueError",
     "evalue": "shapes (5,4) and (5,6) not aligned: 4 (dim 1) != 5 (dim 0)",
     "output_type": "error",
     "traceback": [
      "\u001b[0;31m---------------------------------------------------------------------------\u001b[0m",
      "\u001b[0;31mValueError\u001b[0m                                Traceback (most recent call last)",
      "Cell \u001b[0;32mIn[4], line 4\u001b[0m\n\u001b[1;32m      1\u001b[0m h \u001b[39m=\u001b[39m np\u001b[39m.\u001b[39mzeros((\u001b[39m5\u001b[39m,\u001b[39m4\u001b[39m))\n\u001b[1;32m      2\u001b[0m i \u001b[39m=\u001b[39m np\u001b[39m.\u001b[39mzeros((\u001b[39m5\u001b[39m,\u001b[39m6\u001b[39m))\n\u001b[0;32m----> 4\u001b[0m j\u001b[39m=\u001b[39mh\u001b[39m.\u001b[39;49mdot(i)\n\u001b[1;32m      5\u001b[0m \u001b[39mprint\u001b[39m(j\u001b[39m.\u001b[39mshape)\n",
      "\u001b[0;31mValueError\u001b[0m: shapes (5,4) and (5,6) not aligned: 4 (dim 1) != 5 (dim 0)"
     ]
    }
   ],
   "source": [
    "h = np.zeros((5,4))\n",
    "i = np.zeros((5,6))\n",
    "\n",
    "j=h.dot(i)\n",
    "print(j.shape) # ValueError: shapes (5,4) and (5,6) not aligned: 4 (dim 1) != 5 (dim 0)"
   ]
  },
  {
   "cell_type": "code",
   "execution_count": 2,
   "metadata": {},
   "outputs": [
    {
     "name": "stdout",
     "output_type": "stream",
     "text": [
      "(1, 3)\n"
     ]
    }
   ],
   "source": [
    "import numpy as np\n",
    "\n",
    "a = np.zeros((1,4))\n",
    "b= np.zeros((4,3))\n",
    "\n",
    "c=a.dot(b) # vector of length 4 \n",
    "print(c.shape) # Matrix of 4 rows and 3 columns\n"
   ]
  }
 ],
 "metadata": {
  "kernelspec": {
   "display_name": "Python 3",
   "language": "python",
   "name": "python3"
  },
  "language_info": {
   "codemirror_mode": {
    "name": "ipython",
    "version": 3
   },
   "file_extension": ".py",
   "mimetype": "text/x-python",
   "name": "python",
   "nbconvert_exporter": "python",
   "pygments_lexer": "ipython3",
   "version": "3.10.6"
  },
  "orig_nbformat": 4,
  "vscode": {
   "interpreter": {
    "hash": "916dbcbb3f70747c44a77c7bcd40155683ae19c65e1c03b4aa3499c5328201f1"
   }
  }
 },
 "nbformat": 4,
 "nbformat_minor": 2
}
