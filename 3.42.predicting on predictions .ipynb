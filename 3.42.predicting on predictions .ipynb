{
 "cells": [
  {
   "cell_type": "code",
   "execution_count": 5,
   "metadata": {},
   "outputs": [
    {
     "name": "stderr",
     "output_type": "stream",
     "text": [
      "<>:28: SyntaxWarning: assertion is always true, perhaps remove parentheses?\n",
      "<>:28: SyntaxWarning: assertion is always true, perhaps remove parentheses?\n",
      "/tmp/ipykernel_19362/409442257.py:28: SyntaxWarning: assertion is always true, perhaps remove parentheses?\n",
      "  assert(len(vector),len(matrix))\n",
      "/tmp/ipykernel_19362/409442257.py:28: SyntaxWarning: assertion is always true, perhaps remove parentheses?\n",
      "  assert(len(vector),len(matrix))\n",
      "/tmp/ipykernel_19362/409442257.py:28: SyntaxWarning: assertion is always true, perhaps remove parentheses?\n",
      "  assert(len(vector),len(matrix))\n",
      "/tmp/ipykernel_19362/409442257.py:28: SyntaxWarning: assertion is always true, perhaps remove parentheses?\n",
      "  assert(len(vector),len(matrix))\n",
      "/tmp/ipykernel_19362/409442257.py:28: SyntaxWarning: assertion is always true, perhaps remove parentheses?\n",
      "  assert(len(vector),len(matrix))\n"
     ]
    },
    {
     "ename": "TypeError",
     "evalue": "'float' object is not subscriptable",
     "output_type": "error",
     "traceback": [
      "\u001b[0;31m---------------------------------------------------------------------------\u001b[0m",
      "\u001b[0;31mTypeError\u001b[0m                                 Traceback (most recent call last)",
      "Cell \u001b[0;32mIn[5], line 39\u001b[0m\n\u001b[1;32m     36\u001b[0m     prediction\u001b[39m=\u001b[39mneural_network(hidden,weight[\u001b[39m1\u001b[39m])\n\u001b[1;32m     37\u001b[0m     \u001b[39mreturn\u001b[39;00m prediction\n\u001b[0;32m---> 39\u001b[0m pred \u001b[39m=\u001b[39m neural_network(\u001b[39minput\u001b[39;49m,weight) \n\u001b[1;32m     40\u001b[0m \u001b[39mprint\u001b[39m(pred)\n",
      "Cell \u001b[0;32mIn[5], line 35\u001b[0m, in \u001b[0;36mneural_network\u001b[0;34m(input, weight)\u001b[0m\n\u001b[1;32m     34\u001b[0m \u001b[39mdef\u001b[39;00m \u001b[39mneural_network\u001b[39m(\u001b[39minput\u001b[39m,weight):\n\u001b[0;32m---> 35\u001b[0m     hidden \u001b[39m=\u001b[39m neural_network(\u001b[39minput\u001b[39;49m,weight[\u001b[39m0\u001b[39;49m])\n\u001b[1;32m     36\u001b[0m     prediction\u001b[39m=\u001b[39mneural_network(hidden,weight[\u001b[39m1\u001b[39m])\n\u001b[1;32m     37\u001b[0m     \u001b[39mreturn\u001b[39;00m prediction\n",
      "Cell \u001b[0;32mIn[5], line 35\u001b[0m, in \u001b[0;36mneural_network\u001b[0;34m(input, weight)\u001b[0m\n\u001b[1;32m     34\u001b[0m \u001b[39mdef\u001b[39;00m \u001b[39mneural_network\u001b[39m(\u001b[39minput\u001b[39m,weight):\n\u001b[0;32m---> 35\u001b[0m     hidden \u001b[39m=\u001b[39m neural_network(\u001b[39minput\u001b[39;49m,weight[\u001b[39m0\u001b[39;49m])\n\u001b[1;32m     36\u001b[0m     prediction\u001b[39m=\u001b[39mneural_network(hidden,weight[\u001b[39m1\u001b[39m])\n\u001b[1;32m     37\u001b[0m     \u001b[39mreturn\u001b[39;00m prediction\n",
      "    \u001b[0;31m[... skipping similar frames: neural_network at line 35 (1 times)]\u001b[0m\n",
      "Cell \u001b[0;32mIn[5], line 35\u001b[0m, in \u001b[0;36mneural_network\u001b[0;34m(input, weight)\u001b[0m\n\u001b[1;32m     34\u001b[0m \u001b[39mdef\u001b[39;00m \u001b[39mneural_network\u001b[39m(\u001b[39minput\u001b[39m,weight):\n\u001b[0;32m---> 35\u001b[0m     hidden \u001b[39m=\u001b[39m neural_network(\u001b[39minput\u001b[39m,weight[\u001b[39m0\u001b[39;49m])\n\u001b[1;32m     36\u001b[0m     prediction\u001b[39m=\u001b[39mneural_network(hidden,weight[\u001b[39m1\u001b[39m])\n\u001b[1;32m     37\u001b[0m     \u001b[39mreturn\u001b[39;00m prediction\n",
      "\u001b[0;31mTypeError\u001b[0m: 'float' object is not subscriptable"
     ]
    }
   ],
   "source": [
    "# ERRORS IN CODE ,,, FIX THIS CODE \n",
    "\n",
    "# Expected output 0.2135 0.145  0.5065\n",
    "runs = 8.5\n",
    "won = 0.65\n",
    "fans = 1.2\n",
    "\n",
    "input = [runs,won,fans]\n",
    "\n",
    "         #toes %win #fans\\n\",\n",
    "ih_wgt = [ [0.1, 0.2, -0.1], #hid[0]\n",
    "           [-0.1,0.1, 0.9], #hid[1]\n",
    "           [0.1, 0.4, 0.1] ] #hid[2]\n",
    "    \n",
    "        #hid[0] hid[1] hid[2]\n",
    "hp_wgt = [ [0.3, 1.1, -0.3], #hurt?\n",
    "           [0.1, 0.2, 0.0], #win?\n",
    "           [0.0, 1.3, 0.1] ] #sad?\n",
    "    \n",
    "weight=[ih_wgt,hp_wgt]    \n",
    "\n",
    "def weighted_sum(a,b):\n",
    "    assert(len(a)==len(b))\n",
    "    output = 0\n",
    "    for i in range(len(a)):\n",
    "        output += a[i]*b[i]\n",
    "    return output    \n",
    "\n",
    "def vector_matrix_multiplication(vector,matrix):\n",
    "    assert(len(vector),len(matrix))\n",
    "    output=[0,0,0]\n",
    "    for i in range(vector):\n",
    "        output[i] = weighted_sum(vector,matrix[i])\n",
    "    return output    \n",
    "\n",
    "def neural_network(input,weight):\n",
    "    hidden = neural_network(input,weight[0])\n",
    "    prediction=neural_network(hidden,weight[1])\n",
    "    return prediction\n",
    "\n",
    "pred = neural_network(input,weight) \n",
    "print(pred)"
   ]
  },
  {
   "cell_type": "code",
   "execution_count": 8,
   "metadata": {},
   "outputs": [
    {
     "name": "stdout",
     "output_type": "stream",
     "text": [
      "[0.2135 0.145  0.5065]\n"
     ]
    }
   ],
   "source": [
    "# SAME ABOVE CODE IN NUMPY\n",
    "\n",
    "import numpy as np\n",
    "\n",
    "# Toes % win # fans\n",
    "ih_wgt = np.array([\n",
    "    [0.1, 0.2, -0.1],  # hid[0]\n",
    "    [-0.1, 0.1, 0.9],  # hid[1]\n",
    "    [0.1, 0.4, 0.1]]).T  # hid[2]\n",
    "\n",
    "# hid[0] hid[1] hid[2]\n",
    "hp_wgt = np.array([\n",
    "    [0.3, 1.1, -0.3],  # hurt?\n",
    "    [0.1, 0.2, 0.0],  # win?\n",
    "    [0.0, 1.3, 0.1]]).T  # sad?\n",
    "\n",
    "weights = [ih_wgt, hp_wgt]\n",
    "\n",
    "def neural_network(input, weights):\n",
    "    hid = input.dot(weights[0])\n",
    "    pred = hid.dot(weights[1])\n",
    "    return pred\n",
    "\n",
    "toes = np.array([8.5, 9.5, 9.9, 9.0])\n",
    "wlrec = np.array([0.65, 0.8, 0.8, 0.9])\n",
    "nfans = np.array([1.2, 1.3, 0.5, 1.0])\n",
    "\n",
    "input = np.array([toes[0], wlrec[0], nfans[0]])\n",
    "\n",
    "pred = neural_network(input, weights)\n",
    "print(pred)\n"
   ]
  }
 ],
 "metadata": {
  "kernelspec": {
   "display_name": "Python 3",
   "language": "python",
   "name": "python3"
  },
  "language_info": {
   "codemirror_mode": {
    "name": "ipython",
    "version": 3
   },
   "file_extension": ".py",
   "mimetype": "text/x-python",
   "name": "python",
   "nbconvert_exporter": "python",
   "pygments_lexer": "ipython3",
   "version": "3.10.6"
  },
  "orig_nbformat": 4,
  "vscode": {
   "interpreter": {
    "hash": "916dbcbb3f70747c44a77c7bcd40155683ae19c65e1c03b4aa3499c5328201f1"
   }
  }
 },
 "nbformat": 4,
 "nbformat_minor": 2
}
