{
 "cells": [
  {
   "cell_type": "code",
   "execution_count": null,
   "metadata": {},
   "outputs": [],
   "source": [
    "# goal_pred :  the goal of our prediction , measured in real world  "
   ]
  },
  {
   "cell_type": "code",
   "execution_count": 1,
   "metadata": {},
   "outputs": [
    {
     "name": "stdout",
     "output_type": "stream",
     "text": [
      "0.30250000000000005\n"
     ]
    }
   ],
   "source": [
    "# Error : is a measure of how much you missed \n",
    "knob_weight = 0.5\n",
    "input=0.5\n",
    "goal_pred=0.8\n",
    "\n",
    "pred = input * knob_weight\n",
    "\n",
    "# **2 : forces the raw error  to be positive by multiplying by itself , negative error don't make sense\n",
    "                                                                        # ( think of the archer example)\n",
    "error = (pred - goal_pred) ** 2 # MEAN SQUARED ERROR    \n",
    "# squaring increases the error size for (>1 errors) and reduces error for (<1 erros)\n",
    "    # ie : bigger errors gets amplified , and smaller errors are ignored \n",
    "\n",
    "\n",
    "print(error)"
   ]
  }
 ],
 "metadata": {
  "kernelspec": {
   "display_name": "Python 3",
   "language": "python",
   "name": "python3"
  },
  "language_info": {
   "codemirror_mode": {
    "name": "ipython",
    "version": 3
   },
   "file_extension": ".py",
   "mimetype": "text/x-python",
   "name": "python",
   "nbconvert_exporter": "python",
   "pygments_lexer": "ipython3",
   "version": "3.10.6"
  },
  "orig_nbformat": 4,
  "vscode": {
   "interpreter": {
    "hash": "916dbcbb3f70747c44a77c7bcd40155683ae19c65e1c03b4aa3499c5328201f1"
   }
  }
 },
 "nbformat": 4,
 "nbformat_minor": 2
}
